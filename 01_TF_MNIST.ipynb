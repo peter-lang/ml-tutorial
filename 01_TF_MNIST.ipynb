{
  "nbformat": 4,
  "nbformat_minor": 0,
  "metadata": {
    "colab": {
      "name": "01-TF-MNIST.ipynb",
      "provenance": [],
      "include_colab_link": true
    },
    "kernelspec": {
      "name": "python3",
      "display_name": "Python 3"
    },
    "accelerator": "GPU"
  },
  "cells": [
    {
      "cell_type": "markdown",
      "metadata": {
        "id": "view-in-github",
        "colab_type": "text"
      },
      "source": [
        "<a href=\"https://colab.research.google.com/github/peter-lang/ml-tutorial/blob/master/01_TF_MNIST.ipynb\" target=\"_parent\"><img src=\"https://colab.research.google.com/assets/colab-badge.svg\" alt=\"Open In Colab\"/></a>"
      ]
    },
    {
      "cell_type": "code",
      "metadata": {
        "id": "bupHj2pQarYw",
        "colab_type": "code",
        "colab": {}
      },
      "source": [
        "!pip install tensorflow>=2.0.0 tensorboard>=2.0.0 --upgrade"
      ],
      "execution_count": 0,
      "outputs": []
    },
    {
      "cell_type": "code",
      "metadata": {
        "id": "mkNwIDaEbbNv",
        "colab_type": "code",
        "colab": {}
      },
      "source": [
        "import tensorflow as tf\n",
        "import numpy as np\n",
        "import datetime\n",
        "import matplotlib.pyplot as plt\n",
        "import random\n",
        "\n",
        "%matplotlib inline"
      ],
      "execution_count": 0,
      "outputs": []
    },
    {
      "cell_type": "code",
      "metadata": {
        "id": "am90qvnFokEK",
        "colab_type": "code",
        "colab": {}
      },
      "source": [
        "mnist = tf.keras.datasets.mnist\n",
        "\n",
        "(x_train, y_train),(x_test, y_test) = mnist.load_data()\n",
        "x_train, x_test = x_train / 255.0, x_test / 255.0 # Normalized to [0, 1] range\n",
        "\n",
        "print(\"Train shape\", x_train.shape, y_train.shape)\n",
        "print(\"Test shape\", x_test.shape, y_test.shape)\n",
        "\n",
        "plt.imshow(x_train[0], interpolation='nearest', cmap='Greys')\n",
        "print(\"Truth: \", y_train[0])"
      ],
      "execution_count": 0,
      "outputs": []
    },
    {
      "cell_type": "code",
      "metadata": {
        "id": "yfo42yONfaFC",
        "colab_type": "code",
        "colab": {}
      },
      "source": [
        "def create_model():\n",
        "  return tf.keras.models.Sequential([\n",
        "    tf.keras.layers.Flatten(input_shape=(28, 28)),\n",
        "    tf.keras.layers.Dense(512, activation='relu'),\n",
        "    tf.keras.layers.Dropout(0.2),\n",
        "    tf.keras.layers.Dense(10, activation='softmax')\n",
        "  ])"
      ],
      "execution_count": 0,
      "outputs": []
    },
    {
      "cell_type": "code",
      "metadata": {
        "id": "GFf7bWnjedkp",
        "colab_type": "code",
        "colab": {}
      },
      "source": [
        "tf.keras.backend.clear_session()\n",
        "\n",
        "model = create_model()\n",
        "model.compile(optimizer='adam',\n",
        "              loss='sparse_categorical_crossentropy',\n",
        "              metrics=['accuracy'])\n",
        "initial_epoch = 0\n",
        "\n",
        "log_dir=\"logs/\" + datetime.datetime.now().strftime(\"%Y%m%d-%H%M%S\")\n",
        "tensorboard_callback = tf.keras.callbacks.TensorBoard(\n",
        "    log_dir=log_dir,\n",
        "    histogram_freq=1,\n",
        "    write_graph=True,\n",
        "    write_images=True,\n",
        "    update_freq='batch'\n",
        ")\n"
      ],
      "execution_count": 0,
      "outputs": []
    },
    {
      "cell_type": "code",
      "metadata": {
        "id": "7k_hUXi_zlSZ",
        "colab_type": "code",
        "colab": {}
      },
      "source": [
        "#!rm -rf logs\n",
        "%load_ext tensorboard\n",
        "%tensorboard --logdir logs"
      ],
      "execution_count": 0,
      "outputs": []
    },
    {
      "cell_type": "code",
      "metadata": {
        "id": "7nfaWhuIfpCJ",
        "colab_type": "code",
        "colab": {}
      },
      "source": [
        "epochs = 1\n",
        "\n",
        "train_start = 0\n",
        "train_end = len(x_train)\n",
        "#train_size = 1000\n",
        "#train_start = random.randint(0, len(x_train) - train_size)\n",
        "#train_end = train_start + train_size\n",
        "\n",
        "model.fit(x=x_train[train_start:train_end], \n",
        "          y=y_train[train_start:train_end], \n",
        "          initial_epoch=initial_epoch,\n",
        "          epochs=initial_epoch + epochs,\n",
        "          #validation_data=(x_test, y_test), \n",
        "          callbacks=[tensorboard_callback])\n",
        "initial_epoch += epochs"
      ],
      "execution_count": 0,
      "outputs": []
    },
    {
      "cell_type": "code",
      "metadata": {
        "id": "Wb2yKDtGgYl-",
        "colab_type": "code",
        "colab": {}
      },
      "source": [
        "index = random.randint(0, len(x_test))\n",
        "img = x_test[index]\n",
        "truth = y_test[index]\n",
        "\n",
        "\n",
        "plt.imshow(img, interpolation='nearest', cmap='Greys')\n",
        "\n",
        "values = list(range(0, 10))\n",
        "predictions = model.predict(np.expand_dims(img, axis=0))[0]\n",
        "\n",
        "_, ax = plt.subplots()\n",
        "\n",
        "ax.barh(values, predictions, align='center')\n",
        "ax.set_yticks(values)\n",
        "ax.invert_yaxis()\n",
        "ax.set_xlabel('Confidence')\n",
        "\n",
        "plt.show()\n",
        "\n",
        "print(\"Prediction: \", predictions.argmax(), \" Truth: \", truth)"
      ],
      "execution_count": 0,
      "outputs": []
    }
  ]
}