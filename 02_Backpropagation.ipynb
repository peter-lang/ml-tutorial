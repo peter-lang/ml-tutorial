{
  "nbformat": 4,
  "nbformat_minor": 0,
  "metadata": {
    "colab": {
      "name": "02_Backpropagation.ipynb",
      "provenance": [],
      "collapsed_sections": [],
      "include_colab_link": true
    },
    "kernelspec": {
      "name": "python3",
      "display_name": "Python 3"
    }
  },
  "cells": [
    {
      "cell_type": "markdown",
      "metadata": {
        "id": "view-in-github",
        "colab_type": "text"
      },
      "source": [
        "<a href=\"https://colab.research.google.com/github/peter-lang/ml-tutorial/blob/master/02_Backpropagation.ipynb\" target=\"_parent\"><img src=\"https://colab.research.google.com/assets/colab-badge.svg\" alt=\"Open In Colab\"/></a>"
      ]
    },
    {
      "cell_type": "markdown",
      "metadata": {
        "id": "JLJLy6ImyBJa",
        "colab_type": "text"
      },
      "source": [
        "# Neural Network Basics\n",
        "\n",
        "### Number of neurons in human brain $ \\approx 10^{11} $ (100 billion)\n",
        "### 1 Nueron connects to $ \\approx 10^4 $(10 thousand)\n",
        "### Number of neural connections: $ \\approx 10^{15} $ (1 thousand-trillion)\n",
        "\n",
        "<img src=\"https://upload.wikimedia.org/wikipedia/commons/4/44/Neuron3.png\">\n",
        "\n",
        "\n",
        "<img src=\"https://drive.google.com/uc?export=view&id=1KDtsK2TVlA3DYRgCoynm0FUE1C8ivK-C\">\n",
        "\n",
        "\n",
        "| Species    | Number of synapses  | Memory (float32) |\n",
        "|------------|---------------------| ---------------- |\n",
        "| RoundWorm (fonalféreg) |  $ 10^{5} $ | 400 KB |\n",
        "| FruitFly (muslica) |  $ 10^{7} $ | 40 MB |\n",
        "| NeuralNets |  $ 10^{5}-10^{9} $ | 400 KB - 4 GB |\n",
        "| Bee |  $ 10^{9} $ | 4 GB |\n",
        "| Mouse |  $ 10^{12} $ | 4 TB |\n",
        "| Cat |  $ 10^{13} $ | 40 TB|\n",
        "| Human |  $ 10^{15} $ | 4 EB |\n"
      ]
    },
    {
      "cell_type": "markdown",
      "metadata": {
        "id": "RQjAgOqu_jKT",
        "colab_type": "text"
      },
      "source": [
        "# Gradient Descent\n",
        "\n",
        "### Training sample: $(\\mathbf{X}, \\mathbf{D})$\n",
        "\n",
        "### Net parameters: $\\theta$\n",
        "\n",
        "$\\mathbf{Y} = \\mathit{Net}(\\mathbf{X}, \\theta)$\n",
        "\n",
        "$\\mathbf{\\hat{Y}} = \\mathit{Loss}(\\mathbf{Y}, \\mathbf{D})$\n",
        "\n",
        "### Optimization task: $$ \\underset{\\theta}{\\arg\\min}(\\mathbf{\\hat{Y}}) $$\n",
        "\n",
        "### Gradient Descent: $$ \\theta_{n+1} = \\theta_{n} - \\alpha \\nabla{\\mathbf{\\hat{Y}}} $$\n",
        "\n",
        "### $$ w_{n+1}^{i} = w_n^{i} - \\alpha \\frac{\\partial \\mathit{Loss}(\\mathit{Net}(\\mathbf{X}, \\theta), \\mathbf{D})}{\\partial w_n^{i}} $$\n",
        "\n",
        "<img src=\"https://drive.google.com/uc?export=view&id=1n1C6lTtA0vl1dryLGauTWfMGPuVta6Rt\">\n",
        "\n",
        "### Rule of thumb\n",
        "\n",
        "__Big steps__: jumps over local minima, but might diverge\n",
        "\n",
        "__Small steps__: converge, but can stuck in local minima\n",
        "\n",
        "__Learning rate schedule__:\n",
        "  - Start with small steps, so learning will converge\n",
        "  - __Warmup phase__: Gradually bigger steps, to walk through landscape and jump through local minima\n",
        "  - After we find a \"nice\" place, gradually smaller steps, to find local minima in the \"neighbourhood\""
      ]
    },
    {
      "cell_type": "markdown",
      "metadata": {
        "id": "UZtYhoaEG0vy",
        "colab_type": "text"
      },
      "source": [
        "# Gradient Descent At Final Layer\n",
        "\n",
        "### How to compute in general: $$ w_{n+1}^{i} = w_n^{i} - \\alpha \\frac{\\partial \\mathit{Loss}(\\mathit{Net}(\\mathbf{X}, \\theta), \\mathbf{D})}{\\partial w_n^{i}} $$\n",
        "\n",
        "### Partial Derivative $$ \\frac{\\partial y}{\\partial x} = \\frac{\\partial y}{\\partial u} \\frac{\\partial u}{\\partial x} $$\n",
        "\n",
        "### Final layer\n",
        "\n",
        "<img src=\"https://drive.google.com/uc?export=view&id=13-rotnmfvdl3kq8DxbtSSzyQbYN1GTOj\">\n",
        "\n",
        "\n",
        "#### Linear layer: $$ \\mathit{Linear}(\\mathbf{x}) = \\sum_j{w_j x_j} $$\n",
        "#### $$ \\frac{\\partial \\mathit{Linear}(\\mathbf{x})}{\\partial w_i} = \\frac{\\partial \\sum_j{w_j x_j}}{\\partial w_i} = x_i $$\n",
        "#### $$ \\frac{\\partial \\mathit{Linear}(\\mathbf{x})}{\\partial w_n } = \\frac{\\partial \\sum_j{w_j x_j}}{\\partial w_n} = x_n = 1 $$\n",
        "\n",
        "#### Activation function: $$\\varphi(x) = \\frac{1}{1+e^{-x}}$$\n",
        "#### $$ \\frac{\\partial \\varphi}{\\partial x} = \\varphi(x)(1-\\varphi(x)) $$\n",
        "\n",
        "#### Loss function: $$ \\mathit{Loss}(y, d) = \\frac{1}{2} (y-d)^2 $$\n",
        "#### $$ \\frac{\\partial \\mathit{Loss}(y, d)}{\\partial y} = \\frac{1}{2} 2 (y-d) = y - d $$\n",
        "\n",
        "#### Compound function: $$ \\frac{\\partial \\mathit{Loss}(\\varphi(\\mathit{Linear}(\\mathbf{x})))}{\\partial w_i} = \\underbrace{\\frac{\\partial \\mathit{Loss}(\\varphi(\\mathit{Linear}(\\mathbf{x}))}{\\partial \\varphi(\\mathit{Linear}(\\mathbf{x}))}}_{\\varphi(\\mathit{Linear}(\\mathbf{x})) - d} \n",
        "\\underbrace{\\frac{\\partial \\varphi(\\mathit{Linear}(\\mathbf{x}))}{\\partial \\mathit{Linear}(\\mathbf{x})}}_{\\varphi(\\mathit{Linear}(\\mathbf{x}))(1-\\varphi(\\mathit{Linear}(\\mathbf{x})))} \n",
        "\\underbrace{\\frac{\\partial \\mathit{Linear}(\\mathbf{x})}{\\partial w_i}}_{x_i}$$\n",
        "\n",
        "#### BUT! $ \\varphi(\\mathit{Linear}(\\mathbf{x})) = \\mathit{Net}(\\mathbf{x}, \\theta) = y $ was already computed during __FORWARD PATH__\n",
        "\n",
        "#### $$ \\frac{\\partial \\mathit{Loss}(\\mathit{Net}(\\mathbf{x}, \\theta), d)}{\\partial w_i} = (y - d)y(1-y)x_i $$\n",
        "\n",
        "#### Let's also save this for later usage, also known as __BACKWARD PATH__ :)\n",
        "\n",
        "#### $$ \\delta =  \\frac{\\partial \\mathit{Loss}(y, d)}{\\partial \\mathit{Linear}(\\mathbf{x})} = (y - d)y(1-y)$$\n",
        "\n",
        "\n",
        "# Gradient Descent at any place\n",
        "\n",
        "<img src=\"https://drive.google.com/uc?export=view&id=1yNyUDqz4pqNDSWurzgRuUp56SaFv8V2l\">\n",
        "\n",
        "\n",
        "## Lessons learnt\n",
        "- __FORWARD PATH__:\n",
        "  - Needed to compute $ Loss(y, d) $ function\n",
        "  - Save partial results at each neuron output: $ y_i $ \n",
        "- __BACKWARD PATH__: \n",
        "  - To compute gradients with regards to every weight\n",
        "  - Save partial derivative results at each neuron input: $ \\delta_i $\n",
        "- __Neural Nets & Backpropagation algorithm__: \n",
        "  - Given $ N $ weights (a.k.a parameters)\n",
        "  - Steps: $ 2N $\n",
        "    - Forward\n",
        "    - Backward\n",
        "  - Memory: $ 3N $\n",
        "    - Original weight\n",
        "    - Forward partial result\n",
        "    - Backward partial result\n",
        "  \n"
      ]
    },
    {
      "cell_type": "markdown",
      "metadata": {
        "id": "M52W4KfyLqNK",
        "colab_type": "text"
      },
      "source": [
        "# Gradient Descent at any place\n",
        "\n"
      ]
    },
    {
      "cell_type": "code",
      "metadata": {
        "id": "0TsEVjUkMg82",
        "colab_type": "code",
        "colab": {}
      },
      "source": [
        "import math\n",
        "import random\n",
        "\n",
        "# Activations\n",
        "\n",
        "class Identity:\n",
        "  def __init__(self):\n",
        "    self.diff_value = 1\n",
        "\n",
        "  def __call__(self, x):\n",
        "    return x\n",
        "\n",
        "class Sigmoid:\n",
        "  def __init__(self):\n",
        "    self.diff_value = None\n",
        "\n",
        "  def __call__(self, x):\n",
        "    value = 1 / (1 + math.exp(-x))\n",
        "    self.diff_value = value * (1-value)\n",
        "    return value\n",
        "  \n",
        "class ReLU:\n",
        "  def __init__(self):\n",
        "    self.diff_value = None\n",
        "    \n",
        "  def __call__(self, x):\n",
        "    value = max(0, x)\n",
        "    self.diff_value = 1 if x > 0 else 0\n",
        "    return value\n",
        "\n",
        "class TanH:\n",
        "  def __init__(self):\n",
        "    self.diff_value = None\n",
        "    \n",
        "  def __call__(self, x):\n",
        "    value = math.tanh(x)\n",
        "    self.diff_value = 1 - value**2\n",
        "    return value\n",
        "\n",
        "# Loss functions\n",
        "\n",
        "class MSE:\n",
        "  def __init__(self):\n",
        "    self.diff_value = None\n",
        "\n",
        "  def set_d(self, d):\n",
        "    self.d = d\n",
        "\n",
        "  def __call__(self, y, d):\n",
        "    self.diff_value = y-d\n",
        "    return 0.5*(y-d)**2\n",
        "\n",
        "# Weight initializers\n",
        "\n",
        "def zero_init():\n",
        "  return 0\n",
        "\n",
        "class random_init:\n",
        "  def __init__(self, min_value, max_value):\n",
        "    self.min_value = min_value\n",
        "    self.max_value = max_value\n",
        "\n",
        "  def __call__(self):\n",
        "    return random.uniform(self.min_value, self.max_value)\n",
        "\n",
        "# Network elements\n",
        "\n",
        "class Input:\n",
        "  def __init__(self, value=None):\n",
        "    self.forward_value = value\n",
        "\n",
        "  def set_x(self, x):\n",
        "    self.forward_value = x\n",
        "\n",
        "\n",
        "class Neuron:\n",
        "  def __init__(self, activation_fn=None, weight_init_fn=None, use_bias=False):\n",
        "    self.activation_fn = activation_fn\n",
        "    self.weight_init_fn = weight_init_fn\n",
        "    self.use_bias = use_bias\n",
        "    \n",
        "    self.weights = None\n",
        "    self.idx = None\n",
        "    self.fan_in = None\n",
        "    self.fan_out = None\n",
        "\n",
        "    self.backprop_value = None\n",
        "    self.forward_value = None\n",
        "\n",
        "  def forward(self):\n",
        "    linear_out = sum(w * n.forward_value for w, n in zip(self.weights, self.fan_in))\n",
        "    self.forward_value = self.activation_fn(linear_out)\n",
        "    return self.forward_value\n",
        "\n",
        "  def backprop(self, learning_rate, loss_diff=None):\n",
        "    if self.fan_out is None:\n",
        "      self.backprop_value = self.activation_fn.diff_value * loss_diff\n",
        "    else:\n",
        "      self.backprop_value = sum(n.weights[self.idx] * n.backprop_value for n in self.fan_out) * self.activation_fn.diff_value\n",
        "\n",
        "    for i in range(len(self.weights)):\n",
        "      self.weights[i] -= learning_rate * self.fan_in[i].forward_value * self.backprop_value\n",
        "      \n",
        "  def connect_to_prev(self, idx, prev_layer):\n",
        "    self.idx = idx\n",
        "    if self.use_bias:\n",
        "      self.fan_in = prev_layer + [Input(1.)]\n",
        "    else:\n",
        "      self.fan_in = prev_layer\n",
        "    self.weights = [self.weight_init_fn() for _ in range(len(self.fan_in))]\n",
        "\n",
        "\n",
        "class Net:\n",
        "  def __init__(self, layers, input_dim):\n",
        "    self.inputs = [Input() for _ in range(input_dim)]\n",
        "    self.layers = layers\n",
        "    for prev_layer, next_layer in zip([self.inputs] + self.layers[:-1], self.layers):\n",
        "      for n in prev_layer:\n",
        "        n.fan_out = next_layer\n",
        "      for idx, n in enumerate(next_layer):\n",
        "        n.connect_to_prev(idx, prev_layer)\n",
        "\n",
        "  def __call__(self, x):\n",
        "    for inp, x_value in zip(self.inputs, x):\n",
        "      inp.set_x(x_value)\n",
        "    for layer in self.layers:\n",
        "      for neuron in layer:\n",
        "        neuron.forward()\n",
        "    return [neuron.forward_value for neuron in self.layers[-1]] \n",
        "\n",
        "  def gradient_descent(self, loss_diff, lr=1e-3):\n",
        "    it = iter(reversed(self.layers))\n",
        "    last_layer = next(it)\n",
        "    for neuron in last_layer:\n",
        "      neuron.backprop(lr, loss_diff)\n",
        "    for layer in it:\n",
        "      for neuron in layer:\n",
        "        neuron.backprop(lr)\n"
      ],
      "execution_count": 0,
      "outputs": []
    },
    {
      "cell_type": "code",
      "metadata": {
        "id": "Q5U_OpSrS3yV",
        "colab_type": "code",
        "colab": {}
      },
      "source": [
        "def linspace(min_val, max_val, step):\n",
        "  return [min_val+x/step*(max_val-min_val) for x in range(step+1)]\n",
        "\n",
        "real_x = linspace(-math.pi, math.pi, 50)\n",
        "real_y = [math.sin(x) for x in real_x]\n",
        "\n",
        "train_x = [random.uniform(-math.pi, math.pi) for _ in range(50)]\n",
        "train_y = [math.sin(x) + random.gauss(0, 0.1) for x in train_x]\n",
        "\n",
        "predict_x = linspace(-math.pi, math.pi, 50)\n"
      ],
      "execution_count": 0,
      "outputs": []
    },
    {
      "cell_type": "code",
      "metadata": {
        "id": "PXdYI9La0V41",
        "colab_type": "code",
        "colab": {}
      },
      "source": [
        "import matplotlib.pyplot as plt\n",
        "from IPython.display import clear_output\n",
        "import time\n",
        "\n",
        "%matplotlib inline\n",
        "\n",
        "def draw_plot():\n",
        "  clear_output()\n",
        "  predict_y = [net([x])[0] for x in predict_x]\n",
        "  _ = plt.plot(real_x, real_y, train_x, train_y, 'ro', predict_x, predict_y, 'g--')\n",
        "  plt.show()\n",
        "  time.sleep(1.)"
      ],
      "execution_count": 0,
      "outputs": []
    },
    {
      "cell_type": "code",
      "metadata": {
        "id": "T2tIH_BlrKpC",
        "colab_type": "code",
        "outputId": "7b0e350a-dd12-4c9d-d38f-e33975cddabf",
        "colab": {
          "base_uri": "https://localhost:8080/",
          "height": 265
        }
      },
      "source": [
        "loss = MSE()\n",
        "init = random_init(-0.2, 0.2)\n",
        "net = Net([\n",
        "  [Neuron(activation_fn=TanH(), weight_init_fn=init) for _ in range(50)],\n",
        "  [Neuron(activation_fn=TanH(), weight_init_fn=init) for _ in range(20)],\n",
        "  [Neuron(activation_fn=Identity(), weight_init_fn=init)]\n",
        "], 1)\n",
        "\n",
        "draw_plot()"
      ],
      "execution_count": 9,
      "outputs": [
        {
          "output_type": "display_data",
          "data": {
            "image/png": "[encoded data removed]",
            "text/plain": [
              "<Figure size 432x288 with 1 Axes>"
            ]
          },
          "metadata": {
            "tags": []
          }
        }
      ]
    },
    {
      "cell_type": "code",
      "metadata": {
        "id": "x7itCVQkVm4o",
        "colab_type": "code",
        "outputId": "093cc5ab-d7c6-4e4d-ab6f-82360c85de19",
        "colab": {
          "base_uri": "https://localhost:8080/",
          "height": 265
        }
      },
      "source": [
        "for epoch in range(100):\n",
        "  \n",
        "  train_samples = list(zip(train_x, train_y))\n",
        "  random.shuffle(train_samples)\n",
        "  total_loss = 0\n",
        "  for x, d in train_samples:\n",
        "    y = net([x])[0]\n",
        "    total_loss += loss(y, d)\n",
        "    net.gradient_descent(loss.diff_value, 1e-2)\n",
        "  if epoch % 10 == 0:\n",
        "    draw_plot()\n",
        "  "
      ],
      "execution_count": 11,
      "outputs": [
        {
          "output_type": "display_data",
          "data": {
            "image/png": "[encoded data removed]",
            "text/plain": [
              "<Figure size 432x288 with 1 Axes>"
            ]
          },
          "metadata": {
            "tags": []
          }
        }
      ]
    }
  ]
}